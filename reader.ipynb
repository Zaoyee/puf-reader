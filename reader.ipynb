{
 "cells": [
  {
   "cell_type": "code",
   "execution_count": 227,
   "metadata": {},
   "outputs": [],
   "source": [
    "from PIL import Image\n",
    "import numpy as np\n",
    "from Crypto.Hash import SHA512\n",
    "import warnings\n",
    "from itertools import chain"
   ]
  },
  {
   "cell_type": "code",
   "execution_count": 87,
   "metadata": {},
   "outputs": [],
   "source": [
    "im = Image.open('./dendrites/2.tif')\n",
    "im2arr = np.array(im) # im2arr.shape: height x width x channel\n",
    "arr2im = Image.fromarray(im2arr)\n",
    "read_len_pixel = 25"
   ]
  },
  {
   "cell_type": "code",
   "execution_count": 45,
   "metadata": {},
   "outputs": [
    {
     "name": "stdin",
     "output_type": "stream",
     "text": [
      "Choose \"1\" for random selection, \"2\" for determistic selection, \"0\" for documents about the choice\n",
      " 1\n"
     ]
    }
   ],
   "source": [
    "ip = int(input('Choose \"1\" for random selection, \"2\" for determistic selection, \"0\" for documents about the choice\\n'))"
   ]
  },
  {
   "cell_type": "code",
   "execution_count": 39,
   "metadata": {},
   "outputs": [],
   "source": [
    "ip_set = [x for x in range(0,3)]"
   ]
  },
  {
   "cell_type": "code",
   "execution_count": 46,
   "metadata": {},
   "outputs": [],
   "source": [
    "while ip not in ip_set:\n",
    "    warnings.warn(\"Unknown command, plz retype the selection mode\\n\")\n",
    "    ip = input('Choose \"1\" for random selection, \"2\" for determistic selection, \"0\" for documents about the choice\\n')"
   ]
  },
  {
   "cell_type": "code",
   "execution_count": 111,
   "metadata": {},
   "outputs": [],
   "source": [
    "def rand_sel(read_len_pixel=10, loc=None):\n",
    "    print('-'*20)\n",
    "    print('**Random selecting**')\n",
    "    h,w,c = im2arr.shape\n",
    "    if loc == None:\n",
    "        temp_a = int(np.random.randint(h, size=1))    \n",
    "        temp_b = int(np.random.randint(w, size=1))\n",
    "        dir_sel = int(np.random.randint(2,size=1))\n",
    "    else:\n",
    "        temp_a, temp_b, dir_sel = loc\n",
    "\n",
    "    if dir_sel == 0:\n",
    "        if temp_b < w-read_len_pixel:\n",
    "            sel_vec = np.mean(im2arr[temp_a, temp_b:temp_b+read_len_pixel,:], axis=1)\n",
    "        else:\n",
    "            sub = read_len_pixel - w + temp_b \n",
    "            sel_vec = np.mean(im2arr[temp_a, temp_b:,:], axis=1)\n",
    "            if temp_a < h - 1:\n",
    "                sel_vec = np.concatenate([sel_vec, np.mean(im2arr[temp_a+1, :sub,:], axis=1)])\n",
    "            else:\n",
    "                sel_vec = np.concatenate([sel_vec, np.mean(im2arr[0, :sub,:], axis=1)])\n",
    "    else:\n",
    "        if temp_a < h - read_len_pixel:\n",
    "            sel_vec = np.mean(im2arr[temp_a:temp_a+10, temp_b,:], axis=1)\n",
    "            # debug\n",
    "        else:\n",
    "            sub = read_len_pixel - h + temp_a\n",
    "            sel_vec = np.mean(im2arr[temp_a:, temp_b,:], axis=1)\n",
    "            if temp_b < w - 1:\n",
    "                sel_vec = np.concatenate([sel_vec, np.mean(im2arr[:sub, temp_b+1,:], axis=1)])\n",
    "            else:\n",
    "                sel_vec = np.concatenate([sel_vec, np.mean(im2arr[:sub, 0,:], axis=1)])\n",
    "    sel_vec = sel_vec.round().astype(int)\n",
    "    return sel_vec"
   ]
  },
  {
   "cell_type": "code",
   "execution_count": 228,
   "metadata": {},
   "outputs": [],
   "source": [
    "def hash(sel_vec):\n",
    "    sel_str = [\"\"+str(x) for x in sel_vec]\n",
    "    hash_object = SHA512.new(data=(''.join(sel_str)).encode())\n",
    "    return(hash_object)"
   ]
  },
  {
   "cell_type": "code",
   "execution_count": 229,
   "metadata": {},
   "outputs": [
    {
     "data": {
      "text/plain": [
       "'7b0755f5b96b9910b268ac607dddeebcca72b238a9184cb1de3f768ed9989fda2e6b28512a717c60c51b8316c37f051ac3a9f9c34821ae6d4424f137369f2eb4'"
      ]
     },
     "execution_count": 229,
     "metadata": {},
     "output_type": "execute_result"
    }
   ],
   "source": [
    "hash_object = hash(sel_vec)\n",
    "out = hash_object.hexdigest()\n",
    "out"
   ]
  },
  {
   "cell_type": "code",
   "execution_count": 233,
   "metadata": {},
   "outputs": [],
   "source": [
    "def conversion(out_mode, hash_object, length_required):\n",
    "    \"\"\"\n",
    "    out_mode : 0 -- binary\n",
    "             : 1 -- decimal\n",
    "             : 2 -- hex\n",
    "             : 3 -- character\n",
    "    return   : output in string format\n",
    "    \"\"\"\n",
    "    hex_out = hash_object.hexdigest()\n",
    "    bin_out = bin(int(hex_out, 16))[2:].zfill(len(hex_out)*4)\n",
    "    if out_mode == 0:\n",
    "        return(bin_out[-length_required:])\n",
    "    elif out_mode == 2:\n",
    "        return(hex_out[-length_required:])\n",
    "    elif out_mode == 1:\n",
    "        return(str(int(bin_out, 2))[-length_required:])\n",
    "    elif out_mode == 3:\n",
    "        hex_vec = []\n",
    "        for i in range(int(len(hex_out) / 2)): \n",
    "            idx = 2 * i\n",
    "            hex_vec.append(int(hex_out[idx:idx+2],16))\n",
    "        chr_vec = [chr(x) for x in hex_vec]\n",
    "        d = ''.join(chr_vec)\n",
    "        concatenated = chain(range(48,58), range(65, 91), range(97, 123))\n",
    "        availset = [chr(x) for x in concatenated]\n",
    "        chr_vec_sel = ''.join([x for x in d if x in availset])\n",
    "        while (length_required > len(chr_vec_sel)):\n",
    "            length_required = int(input('Input a length which needs to be smaller than {}'.format(len(chr_vec_sel)+1)))\n",
    "        return(chr_vec_sel[-length_required:])"
   ]
  },
  {
   "cell_type": "code",
   "execution_count": 234,
   "metadata": {},
   "outputs": [
    {
     "name": "stdin",
     "output_type": "stream",
     "text": [
      "Input a length which needs to be smaller than 16 15\n"
     ]
    },
    {
     "data": {
      "text/plain": [
       "'Ukhr8LvkQqHmD76'"
      ]
     },
     "execution_count": 234,
     "metadata": {},
     "output_type": "execute_result"
    }
   ],
   "source": [
    "conversion(3, hash_object, 32)"
   ]
  },
  {
   "cell_type": "code",
   "execution_count": null,
   "metadata": {},
   "outputs": [],
   "source": []
  }
 ],
 "metadata": {
  "kernelspec": {
   "display_name": "Python 3",
   "language": "python",
   "name": "python3"
  },
  "language_info": {
   "codemirror_mode": {
    "name": "ipython",
    "version": 3
   },
   "file_extension": ".py",
   "mimetype": "text/x-python",
   "name": "python",
   "nbconvert_exporter": "python",
   "pygments_lexer": "ipython3",
   "version": "3.7.4"
  }
 },
 "nbformat": 4,
 "nbformat_minor": 4
}
